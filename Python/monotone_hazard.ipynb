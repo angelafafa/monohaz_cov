{
  "cells": [
    {
      "cell_type": "code",
      "execution_count": null,
      "metadata": {
        "colab": {
          "base_uri": "https://localhost:8080/"
        },
        "id": "bWo-8g-R-R4J",
        "outputId": "6549fbb7-c8df-4b75-aa2d-555e9fd60129"
      },
      "outputs": [],
      "source": [
        "pip install lifelines"
      ]
    },
    {
      "cell_type": "code",
      "execution_count": null,
      "metadata": {
        "colab": {
          "base_uri": "https://localhost:8080/"
        },
        "id": "nNcj6LyURp0y",
        "outputId": "794bfbac-cd98-4c61-be06-186854984522"
      },
      "outputs": [
        {
          "name": "stderr",
          "output_type": "stream",
          "text": [
            "<ipython-input-6-bc636ab812d4>:205: DeprecationWarning: Conversion of an array with ndim > 0 to a scalar is deprecated, and will error in future. Ensure you extract a single element from your array before performing this operation. (Deprecated NumPy 1.25.)\n",
            "  print(\"Trials:%04d/%04d  dt:%.3fs  elapsed:%.3fs  ETA:%.3fs  | OUTPUT=wu:%.4f tsai:%.4f  cox:%.4f km:%.4f| min_x:%.4f min_t:%.4f  valid_n:%4d\"%(i, n_trials, dt, elapsed, eta, surv_median_est[i], surv_median_tsai[i],cox_med[i],km_med[i],min_x, min_t, n_samples))\n"
          ]
        },
        {
          "name": "stdout",
          "output_type": "stream",
          "text": [
            "Trials:0000/0010  dt:3.016s  elapsed:3.016s  ETA:27.147s  | OUTPUT=wu:0.5105 tsai:0.5159  cox:0.5055 km:0.5112| min_x:377.5206 min_t:1381.5167  valid_n: 935\n"
          ]
        },
        {
          "name": "stderr",
          "output_type": "stream",
          "text": [
            "<ipython-input-6-bc636ab812d4>:205: DeprecationWarning: Conversion of an array with ndim > 0 to a scalar is deprecated, and will error in future. Ensure you extract a single element from your array before performing this operation. (Deprecated NumPy 1.25.)\n",
            "  print(\"Trials:%04d/%04d  dt:%.3fs  elapsed:%.3fs  ETA:%.3fs  | OUTPUT=wu:%.4f tsai:%.4f  cox:%.4f km:%.4f| min_x:%.4f min_t:%.4f  valid_n:%4d\"%(i, n_trials, dt, elapsed, eta, surv_median_est[i], surv_median_tsai[i],cox_med[i],km_med[i],min_x, min_t, n_samples))\n"
          ]
        },
        {
          "name": "stdout",
          "output_type": "stream",
          "text": [
            "Trials:0001/0010  dt:1.994s  elapsed:5.011s  ETA:20.043s  | OUTPUT=wu:0.5205 tsai:0.5265  cox:0.5115 km:0.5165| min_x:319.4844 min_t:1334.0673  valid_n: 949\n"
          ]
        },
        {
          "name": "stderr",
          "output_type": "stream",
          "text": [
            "<ipython-input-6-bc636ab812d4>:205: DeprecationWarning: Conversion of an array with ndim > 0 to a scalar is deprecated, and will error in future. Ensure you extract a single element from your array before performing this operation. (Deprecated NumPy 1.25.)\n",
            "  print(\"Trials:%04d/%04d  dt:%.3fs  elapsed:%.3fs  ETA:%.3fs  | OUTPUT=wu:%.4f tsai:%.4f  cox:%.4f km:%.4f| min_x:%.4f min_t:%.4f  valid_n:%4d\"%(i, n_trials, dt, elapsed, eta, surv_median_est[i], surv_median_tsai[i],cox_med[i],km_med[i],min_x, min_t, n_samples))\n"
          ]
        },
        {
          "name": "stdout",
          "output_type": "stream",
          "text": [
            "Trials:0002/0010  dt:1.705s  elapsed:6.716s  ETA:15.671s  | OUTPUT=wu:0.4965 tsai:0.4850  cox:0.4855 km:0.4814| min_x:312.1600 min_t:1334.0673  valid_n: 946\n"
          ]
        },
        {
          "name": "stderr",
          "output_type": "stream",
          "text": [
            "<ipython-input-6-bc636ab812d4>:205: DeprecationWarning: Conversion of an array with ndim > 0 to a scalar is deprecated, and will error in future. Ensure you extract a single element from your array before performing this operation. (Deprecated NumPy 1.25.)\n",
            "  print(\"Trials:%04d/%04d  dt:%.3fs  elapsed:%.3fs  ETA:%.3fs  | OUTPUT=wu:%.4f tsai:%.4f  cox:%.4f km:%.4f| min_x:%.4f min_t:%.4f  valid_n:%4d\"%(i, n_trials, dt, elapsed, eta, surv_median_est[i], surv_median_tsai[i],cox_med[i],km_med[i],min_x, min_t, n_samples))\n"
          ]
        },
        {
          "name": "stdout",
          "output_type": "stream",
          "text": [
            "Trials:0003/0010  dt:2.373s  elapsed:9.089s  ETA:13.634s  | OUTPUT=wu:0.5019 tsai:0.4990  cox:0.4906 km:0.4858| min_x:312.1600 min_t:1334.0673  valid_n: 950\n"
          ]
        },
        {
          "name": "stderr",
          "output_type": "stream",
          "text": [
            "<ipython-input-6-bc636ab812d4>:205: DeprecationWarning: Conversion of an array with ndim > 0 to a scalar is deprecated, and will error in future. Ensure you extract a single element from your array before performing this operation. (Deprecated NumPy 1.25.)\n",
            "  print(\"Trials:%04d/%04d  dt:%.3fs  elapsed:%.3fs  ETA:%.3fs  | OUTPUT=wu:%.4f tsai:%.4f  cox:%.4f km:%.4f| min_x:%.4f min_t:%.4f  valid_n:%4d\"%(i, n_trials, dt, elapsed, eta, surv_median_est[i], surv_median_tsai[i],cox_med[i],km_med[i],min_x, min_t, n_samples))\n"
          ]
        },
        {
          "name": "stdout",
          "output_type": "stream",
          "text": [
            "Trials:0004/0010  dt:1.811s  elapsed:10.900s  ETA:10.900s  | OUTPUT=wu:0.5225 tsai:0.5196  cox:0.5113 km:0.5104| min_x:282.2222 min_t:1274.4383  valid_n: 937\n"
          ]
        },
        {
          "name": "stderr",
          "output_type": "stream",
          "text": [
            "<ipython-input-6-bc636ab812d4>:205: DeprecationWarning: Conversion of an array with ndim > 0 to a scalar is deprecated, and will error in future. Ensure you extract a single element from your array before performing this operation. (Deprecated NumPy 1.25.)\n",
            "  print(\"Trials:%04d/%04d  dt:%.3fs  elapsed:%.3fs  ETA:%.3fs  | OUTPUT=wu:%.4f tsai:%.4f  cox:%.4f km:%.4f| min_x:%.4f min_t:%.4f  valid_n:%4d\"%(i, n_trials, dt, elapsed, eta, surv_median_est[i], surv_median_tsai[i],cox_med[i],km_med[i],min_x, min_t, n_samples))\n"
          ]
        },
        {
          "name": "stdout",
          "output_type": "stream",
          "text": [
            "Trials:0005/0010  dt:1.634s  elapsed:12.534s  ETA:8.356s  | OUTPUT=wu:0.4992 tsai:0.4969  cox:0.4942 km:0.4911| min_x:282.2222 min_t:1274.4383  valid_n: 940\n"
          ]
        },
        {
          "name": "stderr",
          "output_type": "stream",
          "text": [
            "<ipython-input-6-bc636ab812d4>:205: DeprecationWarning: Conversion of an array with ndim > 0 to a scalar is deprecated, and will error in future. Ensure you extract a single element from your array before performing this operation. (Deprecated NumPy 1.25.)\n",
            "  print(\"Trials:%04d/%04d  dt:%.3fs  elapsed:%.3fs  ETA:%.3fs  | OUTPUT=wu:%.4f tsai:%.4f  cox:%.4f km:%.4f| min_x:%.4f min_t:%.4f  valid_n:%4d\"%(i, n_trials, dt, elapsed, eta, surv_median_est[i], surv_median_tsai[i],cox_med[i],km_med[i],min_x, min_t, n_samples))\n"
          ]
        },
        {
          "name": "stdout",
          "output_type": "stream",
          "text": [
            "Trials:0006/0010  dt:1.042s  elapsed:13.577s  ETA:5.819s  | OUTPUT=wu:0.5259 tsai:0.5259  cox:0.4953 km:0.5113| min_x:240.6683 min_t:1274.4383  valid_n: 937\n"
          ]
        },
        {
          "name": "stderr",
          "output_type": "stream",
          "text": [
            "<ipython-input-6-bc636ab812d4>:205: DeprecationWarning: Conversion of an array with ndim > 0 to a scalar is deprecated, and will error in future. Ensure you extract a single element from your array before performing this operation. (Deprecated NumPy 1.25.)\n",
            "  print(\"Trials:%04d/%04d  dt:%.3fs  elapsed:%.3fs  ETA:%.3fs  | OUTPUT=wu:%.4f tsai:%.4f  cox:%.4f km:%.4f| min_x:%.4f min_t:%.4f  valid_n:%4d\"%(i, n_trials, dt, elapsed, eta, surv_median_est[i], surv_median_tsai[i],cox_med[i],km_med[i],min_x, min_t, n_samples))\n"
          ]
        },
        {
          "name": "stdout",
          "output_type": "stream",
          "text": [
            "Trials:0007/0010  dt:1.307s  elapsed:14.883s  ETA:3.721s  | OUTPUT=wu:0.5283 tsai:0.5194  cox:0.5297 km:0.5225| min_x:240.6683 min_t:1245.2418  valid_n: 946\n"
          ]
        },
        {
          "name": "stderr",
          "output_type": "stream",
          "text": [
            "<ipython-input-6-bc636ab812d4>:205: DeprecationWarning: Conversion of an array with ndim > 0 to a scalar is deprecated, and will error in future. Ensure you extract a single element from your array before performing this operation. (Deprecated NumPy 1.25.)\n",
            "  print(\"Trials:%04d/%04d  dt:%.3fs  elapsed:%.3fs  ETA:%.3fs  | OUTPUT=wu:%.4f tsai:%.4f  cox:%.4f km:%.4f| min_x:%.4f min_t:%.4f  valid_n:%4d\"%(i, n_trials, dt, elapsed, eta, surv_median_est[i], surv_median_tsai[i],cox_med[i],km_med[i],min_x, min_t, n_samples))\n"
          ]
        },
        {
          "name": "stdout",
          "output_type": "stream",
          "text": [
            "Trials:0008/0010  dt:1.434s  elapsed:16.318s  ETA:1.813s  | OUTPUT=wu:0.5015 tsai:0.5050  cox:0.5002 km:0.5004| min_x:240.6683 min_t:1245.2418  valid_n: 936\n"
          ]
        },
        {
          "name": "stderr",
          "output_type": "stream",
          "text": [
            "<ipython-input-6-bc636ab812d4>:205: DeprecationWarning: Conversion of an array with ndim > 0 to a scalar is deprecated, and will error in future. Ensure you extract a single element from your array before performing this operation. (Deprecated NumPy 1.25.)\n",
            "  print(\"Trials:%04d/%04d  dt:%.3fs  elapsed:%.3fs  ETA:%.3fs  | OUTPUT=wu:%.4f tsai:%.4f  cox:%.4f km:%.4f| min_x:%.4f min_t:%.4f  valid_n:%4d\"%(i, n_trials, dt, elapsed, eta, surv_median_est[i], surv_median_tsai[i],cox_med[i],km_med[i],min_x, min_t, n_samples))\n"
          ]
        },
        {
          "name": "stdout",
          "output_type": "stream",
          "text": [
            "Trials:0009/0010  dt:1.443s  elapsed:17.760s  ETA:0.000s  | OUTPUT=wu:0.4931 tsai:0.5041  cox:0.4854 km:0.4929| min_x:240.6683 min_t:1245.2418  valid_n: 952\n",
            "########################################\n",
            "Summary:   bias: 0.0100| 0.0097| 0.0009| 0.0024   variance: 0.0132| 0.0138| 0.0139| 0.0140 avg_n: 942\n",
            "Drive already mounted at /content/drive; to attempt to forcibly remount, call drive.mount(\"/content/drive\", force_remount=True).\n"
          ]
        }
      ],
      "source": [
        "from lifelines import KaplanMeierFitter\n",
        "kmf = KaplanMeierFitter()\n",
        "from lifelines import CoxPHFitter\n",
        "coxph=CoxPHFitter()\n",
        "import numpy as np\n",
        "import time\n",
        "import math\n",
        "import pandas as pd\n",
        "\n",
        "df_record={}\n",
        "\n",
        "def c(a, b):\n",
        "    return np.concatenate((a, b))\n",
        "\n",
        "def rep(val, n):\n",
        "    return np.ones(n,)*val\n",
        "\n",
        "def sum_v_2d(x):\n",
        "    # mat[i,j] = sum(x[i:j+1])\n",
        "    cumsum = np.cumsum(x)\n",
        "    mat_1=cumsum[None, :] - cumsum[:-1, None]\n",
        "    mat = np.concatenate((cumsum[None, :], mat_1), axis=0)\n",
        "    return np.triu(mat)\n",
        "\n",
        "def mono_haz(df1_y1, df1_cov1, df1_delta, df1_truncation, adjust, beta_hat):\n",
        "    z_k = np.unique(np.sort(c(df1_y1, df1_truncation)))\n",
        "    z1 = np.unique(np.sort(df1_y1[df1_delta==1]))\n",
        "    N = z_k.shape[0]\n",
        "    death_sum = np.zeros(N,)\n",
        "    risk_set = np.zeros(N,)\n",
        "    exp_term = np.zeros(N,)\n",
        "    lamda = np.zeros(N,)\n",
        "    for h in range(N):\n",
        "        index = np.logical_and(df1_y1>=z_k[h], df1_truncation<=z_k[h])\n",
        "        risk_set[h] = np.sum(index)\n",
        "        death_sum[h] = np.sum(z1==z_k[h])\n",
        "        exp_term[h] = np.sum(np.exp(df1_cov1[index] * beta_hat))\n",
        "\n",
        "    difference = np.diff(z_k)\n",
        "    nom_2d = sum_v_2d(death_sum[:-1])\n",
        "    if adjust:\n",
        "        denom_2d = sum_v_2d(exp_term[:-1] * difference)\n",
        "    else:\n",
        "        denom_2d = sum_v_2d(risk_set[:-1] * difference)\n",
        "    ratio_2d = nom_2d / (denom_2d + 1e-4*(denom_2d==0))\n",
        "\n",
        "    for j in range(N-1):\n",
        "        lamda[j] = np.max(np.min(ratio_2d[0:j+1, j:N-1], axis=1), axis=0)\n",
        "    lamda[N-1] = lamda[N-2]\n",
        "    return lamda, z_k\n",
        "\n",
        "def baseline_survival_sim(t1, df1_y1, df1_cov1, df1_delta, df1_truncation, hazard_est):\n",
        "    z_k = np.unique(np.sort(c(df1_y1, df1_truncation)))\n",
        "    distinct_time = np.concatenate((np.zeros(1), z_k))\n",
        "    I = np.digitize(np.array([t1]), bins=z_k, right=True)-1\n",
        "    if t1 <= z_k[0]:\n",
        "        cumhaz1 = 0\n",
        "        rest=t1 * hazard_est[0]\n",
        "    elif t1 >= np.max(z_k):\n",
        "        cumhaz1 = np.cumsum(np.diff(distinct_time) * hazard_est)[I]\n",
        "        rest = 0\n",
        "    else:\n",
        "        cumhaz1 = np.cumsum(np.diff(distinct_time) * hazard_est)[I]\n",
        "        rest = (t1-z_k[I]) * hazard_est[I+1]\n",
        "    intergation = cumhaz1 + rest\n",
        "    return np.exp(-intergation)\n",
        "\n",
        "def rweibull(n, shape, scale):\n",
        "    return scale * np.random.weibull(a=shape, size=(n, ))\n",
        "\n",
        "def med_weibull(shape,scale):\n",
        "    return((-np.log(0.5))^(1/shape)*scale)\n",
        "\n",
        "def main(a,x_time,n_trials,n_samples_old,method_i,modify=False, no_est=False,trun_scale=1200):\n",
        "    surv_median_est = []\n",
        "    surv_median_tsai = []\n",
        "    km_med=np.zeros(n_trials,)\n",
        "    cox_med=np.zeros(n_trials,)\n",
        "    elapsed = 0\n",
        "    save_data={\"y1\":[], \"truncation\":[], \"cov1\":[], \"delta\":[],\n",
        "                \"tsai_weibull\":[], \"wu_weibull\":[],\n",
        "                \"surv_res_est\":[], \"surv_res_tsai\":[],\n",
        "               \"tsai_zk\":[], \"wu_zk\":[], \"death_sum\":[],\"exp_term\":[]\n",
        "               }\n",
        "    min_t = None\n",
        "    min_x = None\n",
        "\n",
        "    dataframe_list=[]\n",
        "    sample_size=[]\n",
        "\n",
        "    for i in range(n_trials):\n",
        "        tt1 = time.time()\n",
        "        np.random.seed(i)\n",
        "        n_samples = n_samples_old\n",
        "        man1=rweibull(n_samples//2, shape=a, scale = 1000)\n",
        "        cen1=rweibull(n_samples//2, shape=a, scale = 1000)\n",
        "        woman2=rweibull(n_samples//2, shape=a, scale = 2000)\n",
        "        cen2=rweibull(n_samples//2, shape=a, scale = 2000)\n",
        "        censor=c(cen1, cen2)\n",
        "        failure = c(man1, woman2)\n",
        "        cov1 = c(rep(0, n_samples//2), rep(1, n_samples//2))\n",
        "        delta = failure <= censor\n",
        "        y1 = delta * failure + (1-delta) * censor\n",
        "\n",
        "        if method_i == 1:\n",
        "            # original method\n",
        "            trun=y1*np.random.uniform(0,1,n_samples)\n",
        "            truncation = np.where(trun>y1, y1*0.9, trun)\n",
        "        elif method_i == 2:\n",
        "            # method 2. sample till all truncation<=y1\n",
        "            truncation = rweibull(n_samples, shape=a, scale=300)\n",
        "            indices=np.where(truncation>y1)[0]\n",
        "            n_tries=0\n",
        "            while len(indices)>0:\n",
        "                BIG_N=n_samples*2\n",
        "                new_truncation = rweibull(len(indices)*BIG_N, shape=a, scale=1000).reshape(len(indices),BIG_N)\n",
        "                new_truncation = np.min(new_truncation, axis=1)\n",
        "                truncation[indices] = new_truncation\n",
        "                indices=np.where(truncation>y1)[0]\n",
        "                n_tries+=1\n",
        "                #print(n_tries, len(indices))\n",
        "        elif method_i == 3:\n",
        "            # method 3. swap y1,truncation to ensure truncation<=y1\n",
        "            truncation = rweibull(n_samples, shape=a, scale=500)\n",
        "            indices = truncation>y1\n",
        "            y1[indices], truncation[indices] = truncation[indices], y1[indices]\n",
        "        elif method_i == 4:\n",
        "            # method 4. remove the violated y1 & truncation\n",
        "            truncation = rweibull(n_samples, shape=a, scale=trun_scale)\n",
        "            indices = np.where(truncation<=y1)[0]\n",
        "            y1=y1[indices]\n",
        "            cov1 = cov1[indices]\n",
        "            delta = delta[indices]\n",
        "            truncation = truncation[indices]\n",
        "            n_samples = len(indices)\n",
        "\n",
        "        ######################\n",
        "        if modify:\n",
        "            minimum_y = np.min(y1)\n",
        "            keep_indices = np.where(np.logical_or(truncation> minimum_y, y1 ==minimum_y))[0]\n",
        "            #min_idx = np.where(y1==minimum_y)[0]\n",
        "            # delta[min_idx]=1\n",
        "            # cov1[min_idx]=0\n",
        "            y1 = y1[keep_indices]\n",
        "            truncation = truncation[keep_indices]\n",
        "            delta = delta[keep_indices]\n",
        "            cov1 = cov1[keep_indices]\n",
        "            n_samples = len(keep_indices)\n",
        "        ######################\n",
        "\n",
        "        d = {'y1': y1, 'truncation': truncation,'delta': delta,'cov1': cov1, \"trial_i\":i+cov1*0}\n",
        "        df2 = pd.DataFrame(data=d)\n",
        "\n",
        "        df_record[i] = df2.copy()\n",
        "        dataframe_list.append(df_record[i])\n",
        "        if no_est:\n",
        "            print(\"Trial\", i)\n",
        "            continue\n",
        "        kmf.fit(durations=y1[cov1==0], event_observed=delta[cov1==0], entry=truncation[cov1==0])\n",
        "        km_med[i]=np.mean(kmf.survival_function_at_times(x_time))\n",
        "        bashaz_index=np.digitize(x_time, bins=np.sort(y1), right=True)-1\n",
        "        coxph.fit(df=df2,duration_col=\"y1\",event_col=\"delta\",entry_col='truncation',formula=\"cov1\")\n",
        "        death_sum=np.zeros(n_samples,)\n",
        "        exp_term=np.zeros(n_samples,)\n",
        "        z_k = np.unique(np.sort(y1))\n",
        "        z1 = np.unique(np.sort(y1[delta==1]))\n",
        "\n",
        "        for l in range(n_samples):\n",
        "            index = np.logical_and(y1>=z_k[l], truncation<=z_k[l])\n",
        "            death_sum[l] = np.sum(z1==z_k[l])\n",
        "            exp_term[l] = np.sum(np.exp(cov1[index] * coxph.params_[0]))\n",
        "        cox_med[i]=np.where(bashaz_index==-1, 1, np.exp(-np.cumsum(death_sum/exp_term))[bashaz_index])\n",
        "        tsai_weibull, tsai_zk = mono_haz(y1[cov1==0], cov1[cov1==0], delta[cov1==0], truncation[cov1==0],\n",
        "                              adjust=False, beta_hat=0)\n",
        "        wu_weibull, wu_zk = mono_haz(y1, cov1, delta, truncation, adjust=True, beta_hat=coxph.params_[0])\n",
        "        if min_t is None:\n",
        "            min_t = np.min([np.max(tsai_zk), np.max(wu_zk)])\n",
        "        else:\n",
        "            min_t = np.min([min_t, np.max(tsai_zk), np.max(wu_zk)])\n",
        "        if min_x is None:\n",
        "            min_x = np.min(y1)\n",
        "        else:\n",
        "            min_x = np.min([min_x, np.min(y1)])\n",
        "        surv_res_est=baseline_survival_sim(x_time, y1, cov1, delta,truncation,hazard_est=wu_weibull)\n",
        "        surv_median_est.append(surv_res_est)\n",
        "        surv_res_tsai=baseline_survival_sim(x_time, y1[cov1==0], cov1[cov1==0], delta[cov1==0], truncation[cov1==0],hazard_est=tsai_weibull)\n",
        "        surv_median_tsai.append(surv_res_tsai)\n",
        "        dt = time.time() - tt1\n",
        "        elapsed += dt\n",
        "        eta = (n_trials - i - 1) * (elapsed / (i+1))\n",
        "        #print(\"Trials:%04d/%04d  dt:%.3fs  elapsed:%.3fs  ETA:%.3fs\"%(i, n_trials, dt, elapsed, eta))\n",
        "        save_data[\"y1\"].append(y1)\n",
        "        save_data[\"tsai_zk\"].append(tsai_zk)\n",
        "        save_data[\"wu_zk\"].append(wu_zk)\n",
        "        save_data[\"cov1\"].append(cov1)\n",
        "        save_data[\"truncation\"].append(truncation)\n",
        "        save_data[\"delta\"].append(delta)\n",
        "        save_data[\"tsai_weibull\"].append(tsai_weibull)\n",
        "        save_data[\"wu_weibull\"].append(wu_weibull)\n",
        "        save_data[\"surv_res_est\"].append(surv_res_est)\n",
        "        save_data[\"surv_res_tsai\"].append(surv_res_tsai)\n",
        "        save_data[\"death_sum\"].append(death_sum)\n",
        "        save_data[\"exp_term\"].append(exp_term)\n",
        "        #km:%.4f km_med[i],\n",
        "        print(\"Trials:%04d/%04d  dt:%.3fs  elapsed:%.3fs  ETA:%.3fs  | OUTPUT=wu:%.4f tsai:%.4f  cox:%.4f km:%.4f| min_x:%.4f min_t:%.4f  valid_n:%4d\"%(i, n_trials, dt, elapsed, eta, surv_median_est[i], surv_median_tsai[i],cox_med[i],km_med[i],min_x, min_t, n_samples))\n",
        "        sample_size.append(n_samples)\n",
        "    if no_est==False:\n",
        "        #print(np.mean(surv_median_est)-0.5,np.mean(surv_median_tsai)-0.5,np.mean(cox_med)-0.5,\n",
        "        #    math.sqrt(np.square(np.subtract(surv_median_est,np.mean(surv_median_est))).mean()),\n",
        "        #    math.sqrt(np.square(np.subtract(surv_median_tsai,np.mean(surv_median_tsai))).mean()),\n",
        "            #math.sqrt(np.square(np.subtract(km_med,np.mean(km_med))).mean()),\n",
        "        #    math.sqrt(np.square(np.subtract(cox_med,np.mean(cox_med))).mean()),\n",
        "        #    np.mean(n_samples),min_t)\n",
        "        print(\"#\"*40)\n",
        "        print(\"Summary:   bias: %.4f| %.4f| %.4f| %.4f   variance: %.4f| %.4f| %.4f| %.4f avg_n:%4d\"%(\n",
        "            np.mean(surv_median_est)-0.5,np.mean(surv_median_tsai)-0.5,\n",
        "            np.mean(cox_med)-0.5,np.mean(km_med)-0.5,\n",
        "            np.std(surv_median_est,ddof=1),np.std(surv_median_tsai,ddof=1),\n",
        "            np.std(cox_med,ddof=1),np.std(km_med,ddof=1),np.mean(sample_size)\n",
        "        ))\n",
        "        #df = pd.DataFrame(data=save_data)\n",
        "        #return np.mean(surv_median_est), np.mean(surv_median_tsai), np.mean(km_med),np.mean(cox_med)\n",
        "\n",
        "    # save data\n",
        "    from google.colab import drive\n",
        "    drive.mount('/content/drive')\n",
        "    if no_est==False:\n",
        "        np.savez(\"/content/drive/My Drive/data_monotone_hazard.npz\", data=save_data)\n",
        "    pd.concat(dataframe_list).to_csv('/content/drive/My Drive/df_concat.csv')\n",
        "\n",
        "    #df.to_csv('/content/drive/My Drive/df.csv')\n",
        "if __name__ == \"__main__\":\n",
        "    #S1\n",
        "    #main(a=1, x_time=693.1472,n_trials=1000,n_samples_old=1000,method_i = 4,trun_scale=250)\n",
        "    #S2\n",
        "    #main(a=2, x_time=832.5546,n_trials=1000,n_samples_old=1000,method_i = 4,trun_scale=450)\n",
        "    #S3\n",
        "    #main(a=4, x_time=912.4443,n_trials=10,n_samples_old=1000,method_i = 4,trun_scale=500)\n",
        "    #S4\n",
        "    #main(a=6, x_time=940.7428,n_trials=1000,n_samples_old=1000,method_i = 4,trun_scale=500)\n",
        "    #S5\n",
        "    #main(a=4, x_time=912.4443,n_trials=1000,n_samples_old=2000,method_i = 4, modify=True, no_est=False,trun_scale=1200)"
      ]
    },
    {
      "cell_type": "code",
      "execution_count": null,
      "metadata": {
        "colab": {
          "background_save": true
        },
        "id": "fVhZWbP2PufZ"
      },
      "outputs": [],
      "source": [
        "# compute probability\n",
        "import matplotlib.pyplot as plt\n",
        "from google.colab import drive\n",
        "drive.mount('/content/drive')\n",
        "# load data\n",
        "loaded_data = np.load(\"/content/drive/My Drive/data_monotone_hazard.npz\", allow_pickle=True)\n",
        "print(loaded_data['data'].item().keys())\n",
        "loaded_d=loaded_data['data'].item()\n",
        "a=1 #shape\n",
        "n_trials = len(loaded_d[\"truncation\"])\n",
        "# times = np.linspace(0, 1196, 100)\n",
        "times = np.linspace(0, 1432, 100)\n",
        "wu_item_list=[]\n",
        "tsai_item_list=[]\n",
        "km_item_list=[]\n",
        "cox_item_list=[]\n",
        "true_prob=np.exp(-(times/1000)**a)\n",
        "elapsed = 0\n",
        "\n",
        "for i in range(len(times)):\n",
        "    tt1 = time.time()\n",
        "    wu_item_list.append([])\n",
        "    tsai_item_list.append([])\n",
        "    km_item_list.append([])\n",
        "    cox_item_list.append([])\n",
        "    for trial_i in range(n_trials):\n",
        "        n_samples = len(loaded_d[\"truncation\"][trial_i])\n",
        "        y1 = loaded_d[\"y1\"][trial_i]\n",
        "        cov1 = loaded_d[\"cov1\"][trial_i]\n",
        "        delta = loaded_d[\"delta\"][trial_i]\n",
        "        truncation = loaded_d[\"truncation\"][trial_i]\n",
        "        wu_weibull = loaded_d[\"wu_weibull\"][trial_i]\n",
        "        tsai_weibull = loaded_d[\"tsai_weibull\"][trial_i]\n",
        "        death_sum = loaded_d[\"death_sum\"][trial_i]\n",
        "        exp_term  = loaded_d[\"exp_term\"][trial_i]\n",
        "\n",
        "        wu_item=baseline_survival_sim(times[i], y1, cov1, delta, truncation, hazard_est=wu_weibull)\n",
        "        tsai_item=baseline_survival_sim(times[i], y1[cov1==0], cov1[cov1==0], delta[cov1==0], truncation[cov1==0], hazard_est=tsai_weibull)\n",
        "        wu_item = wu_item.item()\n",
        "        tsai_item = tsai_item.item()\n",
        "        wu_item_list[-1].append(wu_item)\n",
        "        tsai_item_list[-1].append(tsai_item)\n",
        "        kmf.fit(durations=y1[cov1==0], event_observed=delta[cov1==0], entry=truncation[cov1==0])\n",
        "        km_item=np.mean(kmf.survival_function_at_times(times[i]))\n",
        "        km_item_list[-1].append(km_item)\n",
        "        bashaz_index=np.digitize(times[i], bins=np.sort(y1), right=True)-1\n",
        "        cox_item=np.where(bashaz_index==-1, 1, np.exp(-np.cumsum(death_sum/exp_term))[bashaz_index])\n",
        "        cox_item_list[-1].append(cox_item)\n",
        "    dt = time.time() - tt1\n",
        "    elapsed += dt\n",
        "    eta = (len(times) - i - 1) * (elapsed / (i+1))\n",
        "    print(\"Times:%04d/%04d  dt:%.3fs  elapsed:%.3fs  ETA:%.3fs\"%(i, len(times), dt, elapsed, eta))\n",
        "\n"
      ]
    },
    {
      "cell_type": "code",
      "execution_count": null,
      "metadata": {
        "colab": {
          "base_uri": "https://localhost:8080/",
          "height": 245
        },
        "id": "ihcgAJS_SV2c",
        "outputId": "3b7d012e-0353-4d5d-d66e-402a695ce5a6"
      },
      "outputs": [],
      "source": [
        "# visualization\n",
        "#times = np.linspace(110, 1190, 100)\n",
        "# times = np.linspace(0, 1196, 100)\n",
        "times = np.linspace(0, 2052, 100)\n",
        "wu_avg = np.mean(np.array(wu_item_list), axis=-1)\n",
        "tsai_avg = np.mean(np.array(tsai_item_list), axis=-1)\n",
        "km_avg = np.mean(np.array(km_item_list), axis=-1)\n",
        "cox_avg = np.mean(np.array(cox_item_list), axis=-1)\n",
        "linewidth=1\n",
        "plt.plot(times, wu_avg, label=\"wu\", color=\"red\", linestyle=\"--\",linewidth=linewidth)\n",
        "plt.plot(times, tsai_avg, label=\"tsai\", color=\"orange\", linestyle=\"-\", linewidth=linewidth)\n",
        "plt.plot(times, km_avg, label=\"km\", color=\"green\", linestyle=\"-.\", linewidth=linewidth)\n",
        "plt.plot(times, cox_avg, label=\"cox\", color=\"blue\", linestyle=\":\", linewidth=linewidth)\n",
        "plt.plot(times, true_prob, label=\"true\", color=\"black\", linestyle='--', linewidth=linewidth)\n",
        "#plt.title('shape=4; trun=1200; bias: 0.0332| 0.0340| -0.1458   MCSE: 0.0702| 0.0720| 0.1831; N=1000', fontsize=10)\n",
        "\n",
        "plt.legend()\n",
        "plt.xlabel(\"Time\")\n",
        "plt.ylabel(\"Survival\")\n",
        "plt.show()\n",
        "\n",
        "result_df = pd.DataFrame(data={'wu_avg': wu_avg, 'tsai_avg': tsai_avg,'cox_avg': cox_avg,'true_prob': true_prob})\n",
        "# save data\n",
        "from google.colab import drive\n",
        "drive.mount('/content/drive')\n",
        "result_df.to_csv('/content/drive/My Drive/result_df.csv')"
      ]
    }
  ],
  "metadata": {
    "colab": {
      "provenance": []
    },
    "kernelspec": {
      "display_name": "Python 3",
      "name": "python3"
    },
    "language_info": {
      "name": "python"
    }
  },
  "nbformat": 4,
  "nbformat_minor": 0
}
